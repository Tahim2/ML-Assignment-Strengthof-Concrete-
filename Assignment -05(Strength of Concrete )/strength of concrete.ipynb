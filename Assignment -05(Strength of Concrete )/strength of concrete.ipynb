{
 "cells": [
  {
   "cell_type": "code",
   "execution_count": 1,
   "id": "cfcc9c22-5977-42b9-ad35-897423bbf209",
   "metadata": {},
   "outputs": [],
   "source": [
    "import pandas as pd\n",
    "from sklearn.model_selection import train_test_split\n",
    "from sklearn.linear_model import LinearRegression, Ridge\n",
    "from sklearn.linear_model import Lasso\n",
    "from sklearn.preprocessing import MinMaxScaler, StandardScaler, PolynomialFeatures\n",
    "from sklearn.metrics import mean_squared_error\n",
    "\n",
    "import warnings as wr\n",
    "wr.filterwarnings('ignore')"
   ]
  },
  {
   "cell_type": "code",
   "execution_count": 2,
   "id": "ea3a766c-d4e3-432a-835d-4716d25e795f",
   "metadata": {},
   "outputs": [
    {
     "data": {
      "text/html": [
       "<div>\n",
       "<style scoped>\n",
       "    .dataframe tbody tr th:only-of-type {\n",
       "        vertical-align: middle;\n",
       "    }\n",
       "\n",
       "    .dataframe tbody tr th {\n",
       "        vertical-align: top;\n",
       "    }\n",
       "\n",
       "    .dataframe thead th {\n",
       "        text-align: right;\n",
       "    }\n",
       "</style>\n",
       "<table border=\"1\" class=\"dataframe\">\n",
       "  <thead>\n",
       "    <tr style=\"text-align: right;\">\n",
       "      <th></th>\n",
       "      <th>Cement</th>\n",
       "      <th>Blast Furnace Slag</th>\n",
       "      <th>Fly Ash</th>\n",
       "      <th>Water</th>\n",
       "      <th>Superplasticizer</th>\n",
       "      <th>Coarse Aggregate</th>\n",
       "      <th>Fine Aggregate</th>\n",
       "      <th>Age</th>\n",
       "      <th>Strength</th>\n",
       "    </tr>\n",
       "  </thead>\n",
       "  <tbody>\n",
       "    <tr>\n",
       "      <th>0</th>\n",
       "      <td>540.0</td>\n",
       "      <td>0.0</td>\n",
       "      <td>0.0</td>\n",
       "      <td>162.0</td>\n",
       "      <td>2.5</td>\n",
       "      <td>1040.0</td>\n",
       "      <td>676.0</td>\n",
       "      <td>28</td>\n",
       "      <td>79.99</td>\n",
       "    </tr>\n",
       "    <tr>\n",
       "      <th>1</th>\n",
       "      <td>540.0</td>\n",
       "      <td>0.0</td>\n",
       "      <td>0.0</td>\n",
       "      <td>162.0</td>\n",
       "      <td>2.5</td>\n",
       "      <td>1055.0</td>\n",
       "      <td>676.0</td>\n",
       "      <td>28</td>\n",
       "      <td>61.89</td>\n",
       "    </tr>\n",
       "    <tr>\n",
       "      <th>2</th>\n",
       "      <td>332.5</td>\n",
       "      <td>142.5</td>\n",
       "      <td>0.0</td>\n",
       "      <td>228.0</td>\n",
       "      <td>0.0</td>\n",
       "      <td>932.0</td>\n",
       "      <td>594.0</td>\n",
       "      <td>270</td>\n",
       "      <td>40.27</td>\n",
       "    </tr>\n",
       "    <tr>\n",
       "      <th>3</th>\n",
       "      <td>332.5</td>\n",
       "      <td>142.5</td>\n",
       "      <td>0.0</td>\n",
       "      <td>228.0</td>\n",
       "      <td>0.0</td>\n",
       "      <td>932.0</td>\n",
       "      <td>594.0</td>\n",
       "      <td>365</td>\n",
       "      <td>41.05</td>\n",
       "    </tr>\n",
       "    <tr>\n",
       "      <th>4</th>\n",
       "      <td>198.6</td>\n",
       "      <td>132.4</td>\n",
       "      <td>0.0</td>\n",
       "      <td>192.0</td>\n",
       "      <td>0.0</td>\n",
       "      <td>978.4</td>\n",
       "      <td>825.5</td>\n",
       "      <td>360</td>\n",
       "      <td>44.30</td>\n",
       "    </tr>\n",
       "  </tbody>\n",
       "</table>\n",
       "</div>"
      ],
      "text/plain": [
       "   Cement  Blast Furnace Slag  Fly Ash  Water  Superplasticizer  \\\n",
       "0   540.0                 0.0      0.0  162.0               2.5   \n",
       "1   540.0                 0.0      0.0  162.0               2.5   \n",
       "2   332.5               142.5      0.0  228.0               0.0   \n",
       "3   332.5               142.5      0.0  228.0               0.0   \n",
       "4   198.6               132.4      0.0  192.0               0.0   \n",
       "\n",
       "   Coarse Aggregate  Fine Aggregate  Age  Strength  \n",
       "0            1040.0           676.0   28     79.99  \n",
       "1            1055.0           676.0   28     61.89  \n",
       "2             932.0           594.0  270     40.27  \n",
       "3             932.0           594.0  365     41.05  \n",
       "4             978.4           825.5  360     44.30  "
      ]
     },
     "execution_count": 2,
     "metadata": {},
     "output_type": "execute_result"
    }
   ],
   "source": [
    "df = pd.read_csv('concrete_data.csv')\n",
    "df.head()"
   ]
  },
  {
   "cell_type": "code",
   "execution_count": 3,
   "id": "b348f9aa-5a1a-4872-9d36-f6ec7a54d428",
   "metadata": {},
   "outputs": [
    {
     "data": {
      "text/html": [
       "<div>\n",
       "<style scoped>\n",
       "    .dataframe tbody tr th:only-of-type {\n",
       "        vertical-align: middle;\n",
       "    }\n",
       "\n",
       "    .dataframe tbody tr th {\n",
       "        vertical-align: top;\n",
       "    }\n",
       "\n",
       "    .dataframe thead th {\n",
       "        text-align: right;\n",
       "    }\n",
       "</style>\n",
       "<table border=\"1\" class=\"dataframe\">\n",
       "  <thead>\n",
       "    <tr style=\"text-align: right;\">\n",
       "      <th></th>\n",
       "      <th>Cement</th>\n",
       "      <th>Blast Furnace Slag</th>\n",
       "      <th>Fly Ash</th>\n",
       "      <th>Water</th>\n",
       "      <th>Superplasticizer</th>\n",
       "      <th>Coarse Aggregate</th>\n",
       "      <th>Fine Aggregate</th>\n",
       "      <th>Age</th>\n",
       "      <th>Strength</th>\n",
       "    </tr>\n",
       "  </thead>\n",
       "  <tbody>\n",
       "    <tr>\n",
       "      <th>Cement</th>\n",
       "      <td>1.000000</td>\n",
       "      <td>-0.275216</td>\n",
       "      <td>-0.397467</td>\n",
       "      <td>-0.081587</td>\n",
       "      <td>0.092386</td>\n",
       "      <td>-0.109349</td>\n",
       "      <td>-0.222718</td>\n",
       "      <td>0.081946</td>\n",
       "      <td>0.497832</td>\n",
       "    </tr>\n",
       "    <tr>\n",
       "      <th>Blast Furnace Slag</th>\n",
       "      <td>-0.275216</td>\n",
       "      <td>1.000000</td>\n",
       "      <td>-0.323580</td>\n",
       "      <td>0.107252</td>\n",
       "      <td>0.043270</td>\n",
       "      <td>-0.283999</td>\n",
       "      <td>-0.281603</td>\n",
       "      <td>-0.044246</td>\n",
       "      <td>0.134829</td>\n",
       "    </tr>\n",
       "    <tr>\n",
       "      <th>Fly Ash</th>\n",
       "      <td>-0.397467</td>\n",
       "      <td>-0.323580</td>\n",
       "      <td>1.000000</td>\n",
       "      <td>-0.256984</td>\n",
       "      <td>0.377503</td>\n",
       "      <td>-0.009961</td>\n",
       "      <td>0.079108</td>\n",
       "      <td>-0.154371</td>\n",
       "      <td>-0.105755</td>\n",
       "    </tr>\n",
       "    <tr>\n",
       "      <th>Water</th>\n",
       "      <td>-0.081587</td>\n",
       "      <td>0.107252</td>\n",
       "      <td>-0.256984</td>\n",
       "      <td>1.000000</td>\n",
       "      <td>-0.657533</td>\n",
       "      <td>-0.182294</td>\n",
       "      <td>-0.450661</td>\n",
       "      <td>0.277618</td>\n",
       "      <td>-0.289633</td>\n",
       "    </tr>\n",
       "    <tr>\n",
       "      <th>Superplasticizer</th>\n",
       "      <td>0.092386</td>\n",
       "      <td>0.043270</td>\n",
       "      <td>0.377503</td>\n",
       "      <td>-0.657533</td>\n",
       "      <td>1.000000</td>\n",
       "      <td>-0.265999</td>\n",
       "      <td>0.222691</td>\n",
       "      <td>-0.192700</td>\n",
       "      <td>0.366079</td>\n",
       "    </tr>\n",
       "    <tr>\n",
       "      <th>Coarse Aggregate</th>\n",
       "      <td>-0.109349</td>\n",
       "      <td>-0.283999</td>\n",
       "      <td>-0.009961</td>\n",
       "      <td>-0.182294</td>\n",
       "      <td>-0.265999</td>\n",
       "      <td>1.000000</td>\n",
       "      <td>-0.178481</td>\n",
       "      <td>-0.003016</td>\n",
       "      <td>-0.164935</td>\n",
       "    </tr>\n",
       "    <tr>\n",
       "      <th>Fine Aggregate</th>\n",
       "      <td>-0.222718</td>\n",
       "      <td>-0.281603</td>\n",
       "      <td>0.079108</td>\n",
       "      <td>-0.450661</td>\n",
       "      <td>0.222691</td>\n",
       "      <td>-0.178481</td>\n",
       "      <td>1.000000</td>\n",
       "      <td>-0.156095</td>\n",
       "      <td>-0.167241</td>\n",
       "    </tr>\n",
       "    <tr>\n",
       "      <th>Age</th>\n",
       "      <td>0.081946</td>\n",
       "      <td>-0.044246</td>\n",
       "      <td>-0.154371</td>\n",
       "      <td>0.277618</td>\n",
       "      <td>-0.192700</td>\n",
       "      <td>-0.003016</td>\n",
       "      <td>-0.156095</td>\n",
       "      <td>1.000000</td>\n",
       "      <td>0.328873</td>\n",
       "    </tr>\n",
       "    <tr>\n",
       "      <th>Strength</th>\n",
       "      <td>0.497832</td>\n",
       "      <td>0.134829</td>\n",
       "      <td>-0.105755</td>\n",
       "      <td>-0.289633</td>\n",
       "      <td>0.366079</td>\n",
       "      <td>-0.164935</td>\n",
       "      <td>-0.167241</td>\n",
       "      <td>0.328873</td>\n",
       "      <td>1.000000</td>\n",
       "    </tr>\n",
       "  </tbody>\n",
       "</table>\n",
       "</div>"
      ],
      "text/plain": [
       "                      Cement  Blast Furnace Slag   Fly Ash     Water  \\\n",
       "Cement              1.000000           -0.275216 -0.397467 -0.081587   \n",
       "Blast Furnace Slag -0.275216            1.000000 -0.323580  0.107252   \n",
       "Fly Ash            -0.397467           -0.323580  1.000000 -0.256984   \n",
       "Water              -0.081587            0.107252 -0.256984  1.000000   \n",
       "Superplasticizer    0.092386            0.043270  0.377503 -0.657533   \n",
       "Coarse Aggregate   -0.109349           -0.283999 -0.009961 -0.182294   \n",
       "Fine Aggregate     -0.222718           -0.281603  0.079108 -0.450661   \n",
       "Age                 0.081946           -0.044246 -0.154371  0.277618   \n",
       "Strength            0.497832            0.134829 -0.105755 -0.289633   \n",
       "\n",
       "                    Superplasticizer  Coarse Aggregate  Fine Aggregate  \\\n",
       "Cement                      0.092386         -0.109349       -0.222718   \n",
       "Blast Furnace Slag          0.043270         -0.283999       -0.281603   \n",
       "Fly Ash                     0.377503         -0.009961        0.079108   \n",
       "Water                      -0.657533         -0.182294       -0.450661   \n",
       "Superplasticizer            1.000000         -0.265999        0.222691   \n",
       "Coarse Aggregate           -0.265999          1.000000       -0.178481   \n",
       "Fine Aggregate              0.222691         -0.178481        1.000000   \n",
       "Age                        -0.192700         -0.003016       -0.156095   \n",
       "Strength                    0.366079         -0.164935       -0.167241   \n",
       "\n",
       "                         Age  Strength  \n",
       "Cement              0.081946  0.497832  \n",
       "Blast Furnace Slag -0.044246  0.134829  \n",
       "Fly Ash            -0.154371 -0.105755  \n",
       "Water               0.277618 -0.289633  \n",
       "Superplasticizer   -0.192700  0.366079  \n",
       "Coarse Aggregate   -0.003016 -0.164935  \n",
       "Fine Aggregate     -0.156095 -0.167241  \n",
       "Age                 1.000000  0.328873  \n",
       "Strength            0.328873  1.000000  "
      ]
     },
     "execution_count": 3,
     "metadata": {},
     "output_type": "execute_result"
    }
   ],
   "source": [
    "df.corr()"
   ]
  },
  {
   "cell_type": "code",
   "execution_count": 4,
   "id": "0ff7345d-19b8-4b96-8a9c-fda9125734df",
   "metadata": {},
   "outputs": [
    {
     "name": "stdout",
     "output_type": "stream",
     "text": [
      "Best random state: 1\n",
      "Best mean R^2 score: 0.6307134470651701\n"
     ]
    }
   ],
   "source": [
    "from sklearn.model_selection import cross_val_score, train_test_split\n",
    "from sklearn.linear_model import LinearRegression\n",
    "from sklearn.metrics import make_scorer, r2_score\n",
    "import pandas as pd\n",
    "\n",
    "# Load the dataset (replace this with your actual dataset)\n",
    "# Assuming the dataset is stored in a variable named df\n",
    "# df = ...\n",
    "\n",
    "# Split features and target variable\n",
    "X = df.drop(columns=['Strength'])\n",
    "y = df['Strength']\n",
    "\n",
    "# Choose a regression model\n",
    "model = LinearRegression()\n",
    "\n",
    "# Define custom scorer for r2\n",
    "scorer = make_scorer(r2_score)\n",
    "\n",
    "# Define range of random states to try\n",
    "random_states = range(100)\n",
    "\n",
    "best_random_state = None\n",
    "best_mean_r2 = -float('inf')\n",
    "\n",
    "# Iterate over different random states\n",
    "for random_state in random_states:\n",
    "    # Split the data into training and testing sets\n",
    "    X_train, X_test, y_train, y_test = train_test_split(X, y, test_size=0.3, random_state=random_state)\n",
    "    \n",
    "    # Perform cross-validation\n",
    "    cv_scores = cross_val_score(model, X_train, y_train, cv=5, scoring=scorer)\n",
    "    \n",
    "    # Compute mean R^2 score\n",
    "    mean_r2 = cv_scores.mean()\n",
    "    \n",
    "    # Update the best random state and mean R^2 score if necessary\n",
    "    if mean_r2 > best_mean_r2:\n",
    "        best_random_state = random_state\n",
    "        best_mean_r2 = mean_r2\n",
    "\n",
    "print(\"Best random state:\", best_random_state)\n",
    "print(\"Best mean R^2 score:\", best_mean_r2)\n"
   ]
  },
  {
   "cell_type": "code",
   "execution_count": 5,
   "id": "9abc5e19-196b-4e65-a615-344b83dd180d",
   "metadata": {},
   "outputs": [],
   "source": [
    "x_train, x_test, y_train, y_test = train_test_split(df[['Cement', 'Blast Furnace Slag', 'Fly Ash', 'Water', 'Superplasticizer', 'Coarse Aggregate', 'Fine Aggregate', 'Age']], df['Strength'], test_size=0.3, random_state = 1)"
   ]
  },
  {
   "cell_type": "markdown",
   "id": "f7ecc591-1a7c-4428-87b9-c45a2af6e672",
   "metadata": {},
   "source": [
    "## Simple Linear Regression"
   ]
  },
  {
   "cell_type": "code",
   "execution_count": 6,
   "id": "e59826c6-c3b5-47ee-ac6d-8475df46604e",
   "metadata": {},
   "outputs": [
    {
     "name": "stdout",
     "output_type": "stream",
     "text": [
      "mse with linear regression: 120.18125557536798\n",
      "Accuracy: 54.15 %\n"
     ]
    }
   ],
   "source": [
    "linear_regression_model = LinearRegression()\n",
    "linear_regression_model.fit(x_train, y_train)\n",
    "y_pred_lr = linear_regression_model.predict(x_test)\n",
    "mse_linear = mean_squared_error(y_test, y_pred_lr)\n",
    "accuracy_lr = linear_regression_model.score(x_test, y_test)\n",
    "print(\"mse with linear regression:\", mse_linear)\n",
    "print(\"Accuracy:\",round(accuracy_lr*100,2),\"%\")"
   ]
  },
  {
   "cell_type": "markdown",
   "id": "69f0b407-348e-4a97-a431-9f1cb8373004",
   "metadata": {},
   "source": [
    "## Polynimial Regression"
   ]
  },
  {
   "cell_type": "markdown",
   "id": "386fd505-8e59-4dec-834e-1931cd5f6241",
   "metadata": {},
   "source": [
    "Performing Cross Validation to check the <b>Optimal  Degree</b> for the PolynomialFeature"
   ]
  },
  {
   "cell_type": "code",
   "execution_count": 7,
   "id": "37af9f7a-8fb4-4aea-a167-afed6eae0687",
   "metadata": {},
   "outputs": [
    {
     "name": "stdout",
     "output_type": "stream",
     "text": [
      "0.758827609806485\n",
      "0.8077703572600525\n",
      "-424.913987260286\n",
      "-6508831.904250146\n"
     ]
    },
    {
     "data": {
      "text/plain": [
       "[63.21301967299293, 50.384773225917336, 111635.12222142942, 1706011961.3793652]"
      ]
     },
     "execution_count": 7,
     "metadata": {},
     "output_type": "execute_result"
    }
   ],
   "source": [
    "plynomial_mses = [] #empty array \n",
    "polynomial_degs = range(2, 6)\n",
    "\n",
    "for deg in polynomial_degs:\n",
    "    polynomial_reg = LinearRegression()\n",
    "    poly = PolynomialFeatures(degree = deg)\n",
    "    x_train_poly = poly.fit_transform(x_train)\n",
    "    x_test_poly = poly.fit_transform(x_test)\n",
    "    polynomial_reg.fit(x_train_poly, y_train)\n",
    "    y_pred_poly = polynomial_reg.predict(x_test_poly)\n",
    "    print(polynomial_reg.score(x_test_poly, y_test))\n",
    "    poly_mse = mean_squared_error(y_test, y_pred_poly)\n",
    "    plynomial_mses.append(poly_mse)\n",
    "\n",
    "plynomial_mses"
   ]
  },
  {
   "cell_type": "markdown",
   "id": "f8d3fc94-8fad-43ab-a930-17af0a6c4cba",
   "metadata": {},
   "source": [
    "<b> Degree 3 is the optimal for this dataset <b>"
   ]
  },
  {
   "cell_type": "markdown",
   "id": "2cc5030a-076c-4ec0-842e-c36bdc482eea",
   "metadata": {},
   "source": [
    "## Polynomial Regression with Degree 3"
   ]
  },
  {
   "cell_type": "code",
   "execution_count": 8,
   "id": "6f5387f0-8c0c-48ad-ac0f-105bc23ec346",
   "metadata": {},
   "outputs": [
    {
     "name": "stdout",
     "output_type": "stream",
     "text": [
      "mse with polynomial regression: 50.384773225917336\n",
      "Accuracy: 80.78 %\n"
     ]
    }
   ],
   "source": [
    "polynomial_reg = LinearRegression()\n",
    "poly_features = PolynomialFeatures(degree=3)\n",
    "x_train_poly = poly_features.fit_transform(x_train)\n",
    "x_test_poly = poly_features.fit_transform(x_test)\n",
    "polynomial_reg.fit(x_train_poly, y_train)\n",
    "y_pred_poly = polynomial_reg.predict(x_test_poly)\n",
    "\n",
    "mse_poly = mean_squared_error(y_test, y_pred_poly)\n",
    "accuracy_poly = polynomial_reg.score(x_test_poly, y_test)\n",
    "print(\"mse with polynomial regression:\", mse_poly)\n",
    "print(\"Accuracy:\", round(accuracy_poly*100, 2),\"%\")"
   ]
  },
  {
   "cell_type": "markdown",
   "id": "1e099f01-d826-468e-b6c3-b4641a47d5a2",
   "metadata": {},
   "source": [
    "## Linear Regression with Lasso (Regularization)"
   ]
  },
  {
   "cell_type": "code",
   "execution_count": 9,
   "id": "a5daed42-9cbc-4792-a4fd-448ed5c7734b",
   "metadata": {},
   "outputs": [
    {
     "name": "stdout",
     "output_type": "stream",
     "text": [
      "mse with lasso regression: 120.1531334118005\n",
      "Accuracy: 54.16 %\n"
     ]
    }
   ],
   "source": [
    "lasso_reg = Lasso(alpha=0.1) # Tune alpha parameter\n",
    "lasso_reg.fit(x_train, y_train)\n",
    "y_pred_lasso = lasso_reg.predict(x_test)\n",
    "mse_lasso = mean_squared_error(y_test, y_pred_lasso)\n",
    "accuracy_lasso = lasso_reg.score(x_test, y_test)\n",
    "print(\"mse with lasso regression:\", mse_lasso)\n",
    "print(\"Accuracy:\", round(accuracy_lasso*100, 2),\"%\")"
   ]
  },
  {
   "cell_type": "markdown",
   "id": "e597cf33-c5c4-48be-a09c-aad7cb13c803",
   "metadata": {},
   "source": [
    "## Linear Regression with Ridge (Regularizarion)"
   ]
  },
  {
   "cell_type": "code",
   "execution_count": 10,
   "id": "9f601b25-c98e-4c6b-bcd2-d4fa0b242f59",
   "metadata": {},
   "outputs": [
    {
     "name": "stdout",
     "output_type": "stream",
     "text": [
      "mse with ridge regression: 120.18124012654579\n",
      "accuracy: 54.15%\n"
     ]
    }
   ],
   "source": [
    "ridge_reg = Ridge(alpha=0.1)\n",
    "ridge_reg.fit(x_train, y_train)\n",
    "y_pred_ridge = ridge_reg.predict(x_test)\n",
    "mse_ridge = mean_squared_error(y_test, y_pred_ridge)\n",
    "accuracy_ridge = ridge_reg.score(x_test, y_test)\n",
    "print(f\"mse with ridge regression: {mse_ridge}\\naccuracy: {round(accuracy_ridge*100, 2)}%\")"
   ]
  },
  {
   "cell_type": "markdown",
   "id": "7bf4b5c5-703e-40cb-936b-64afc126046b",
   "metadata": {},
   "source": [
    "## Plynomial Lasso Regression (Degree 3)"
   ]
  },
  {
   "cell_type": "code",
   "execution_count": 11,
   "id": "3ab1c697-4d04-4b1f-b801-c54fa5163977",
   "metadata": {},
   "outputs": [
    {
     "name": "stdout",
     "output_type": "stream",
     "text": [
      "mse with polynomial lasso regression: 44.41187964030376\n",
      "accuracy: 83.06%\n"
     ]
    }
   ],
   "source": [
    "lasso_2 = Lasso(alpha=0.1)\n",
    "lasso_2.fit(x_train_poly, y_train)\n",
    "y_pred_lasso_2 = lasso_2.predict(x_test_poly)\n",
    "mse_lasso_2 = mean_squared_error(y_test, y_pred_lasso_2)\n",
    "accuracy_lasso_2 = lasso_2.score(x_test_poly, y_test)\n",
    "print(f\"mse with polynomial lasso regression: {mse_lasso_2}\\naccuracy: {round(accuracy_lasso_2*100, 2)}%\")"
   ]
  },
  {
   "cell_type": "code",
   "execution_count": 12,
   "id": "b88f0400-e40d-45df-a722-508bdf6e5874",
   "metadata": {},
   "outputs": [
    {
     "data": {
      "image/png": "[encoded data removed]",
      "text/plain": [
       "<Figure size 800x600 with 1 Axes>"
      ]
     },
     "metadata": {},
     "output_type": "display_data"
    }
   ],
   "source": [
    "import matplotlib.pyplot as plt\n",
    "\n",
    "# Plotting actual vs predicted values for polynomial lasso regression\n",
    "plt.figure(figsize=(8, 6))\n",
    "plt.scatter(y_test, y_pred_lasso_2, color='green', label='Predicted (Polynomial Lasso Regression)')\n",
    "plt.plot([min(y_test), max(y_test)], [min(y_test), max(y_test)], color='red', linestyle='--')\n",
    "plt.xlabel('Actual Values')\n",
    "plt.ylabel('Predicted Values')\n",
    "plt.title('Actual vs Predicted Values (Polynomial Lasso Regression)')\n",
    "plt.legend()\n",
    "plt.show()\n"
   ]
  },
  {
   "cell_type": "markdown",
   "id": "097a5401-2575-439e-8e7a-14e856167948",
   "metadata": {},
   "source": [
    "## Polynomial Ridge Regression (Degree 3)"
   ]
  },
  {
   "cell_type": "code",
   "execution_count": 13,
   "id": "ef010c02-6371-470d-bea0-48539190d45b",
   "metadata": {},
   "outputs": [
    {
     "name": "stdout",
     "output_type": "stream",
     "text": [
      "mse with polynomial ridge regression: 47.1672048934035\n",
      "accuracy: 82.0%\n"
     ]
    }
   ],
   "source": [
    "ridge_2 = Ridge(alpha=0.1)\n",
    "ridge_2.fit(x_train_poly, y_train)\n",
    "y_pred_ridge_2 = ridge_2.predict(x_test_poly)\n",
    "mse_ridge_2 = mean_squared_error(y_test, y_pred_ridge_2)\n",
    "accuracy_ridge_2 = ridge_2.score(x_test_poly, y_test)\n",
    "print(f\"mse with polynomial ridge regression: {mse_ridge_2}\\naccuracy: {round(accuracy_ridge_2*100, 2)}%\")"
   ]
  },
  {
   "cell_type": "markdown",
   "id": "6d3eb24e-7996-449f-be25-62f8da65160c",
   "metadata": {},
   "source": [
    "## Polynomial Lasso Regression with Normalization (Degree 3)"
   ]
  },
  {
   "cell_type": "code",
   "execution_count": 14,
   "id": "02c0e797-79c6-4988-87ba-096908ef2506",
   "metadata": {},
   "outputs": [
    {
     "name": "stdout",
     "output_type": "stream",
     "text": [
      "mse with polynomial lasso regression and normalization: 95.05870613825203\n",
      "accuracy: 63.73%\n"
     ]
    }
   ],
   "source": [
    "norm_scaler = MinMaxScaler()\n",
    "x_train_norm, x_test_norm = norm_scaler.fit_transform(x_train), norm_scaler.fit_transform(x_test)\n",
    "xtrain_norm_poly, xtest_norm_poly = poly.fit_transform(x_train_norm), poly.fit_transform(x_test_norm)\n",
    "\n",
    "lasso_3 = Lasso(alpha=0.1)\n",
    "lasso_3.fit(xtrain_norm_poly, y_train)\n",
    "y_pred_lasso_3 = lasso_3.predict(xtest_norm_poly)\n",
    "mse_lasso_3 = mean_squared_error(y_test, y_pred_lasso_3)\n",
    "accuracy_lasso_3 = lasso_3.score(xtest_norm_poly, y_test)\n",
    "print(f\"mse with polynomial lasso regression and normalization: {mse_lasso_3}\\naccuracy: {round(accuracy_lasso_3*100, 2)}%\")"
   ]
  },
  {
   "cell_type": "markdown",
   "id": "cd42fbb2-dc93-4e35-a1ac-b5d8ed166216",
   "metadata": {},
   "source": [
    "## Polynomial Lasso Regression with Standardization (Degree 3)\n"
   ]
  },
  {
   "cell_type": "code",
   "execution_count": 15,
   "id": "f04960c5-f044-458a-b123-7b44537322d2",
   "metadata": {},
   "outputs": [
    {
     "name": "stdout",
     "output_type": "stream",
     "text": [
      "mse with polynomial lasso regression and standardization: 46.905312472993984\n",
      "accuracy: 82.1%\n"
     ]
    }
   ],
   "source": [
    "std_scaler = StandardScaler()\n",
    "x_train_std, x_test_std = std_scaler.fit_transform(x_train), std_scaler.fit_transform(x_test)\n",
    "xtrain_std_poly, xtest_std_poly = poly.fit_transform(x_train_std), poly.fit_transform(x_test_std)\n",
    "\n",
    "lasso_4 = Lasso(alpha=0.1)\n",
    "lasso_4.fit(xtrain_std_poly, y_train)\n",
    "y_pred_lasso_4 = lasso_4.predict(xtest_std_poly)\n",
    "mse_lasso_4 = mean_squared_error(y_test, y_pred_lasso_4)\n",
    "accuracy_lasso_4 = lasso_4.score(xtest_std_poly, y_test)\n",
    "print(f\"mse with polynomial lasso regression and standardization: {mse_lasso_4}\\naccuracy: {round(accuracy_lasso_4*100, 2)}%\")"
   ]
  },
  {
   "cell_type": "markdown",
   "id": "50e950f3-c27d-4236-83de-b9352a854475",
   "metadata": {},
   "source": [
    "## Polynomial Ridge Regression with Normalization (Degree 3)\n"
   ]
  },
  {
   "cell_type": "code",
   "execution_count": 16,
   "id": "4d4c32d5-846e-4f80-a676-c7da207a947f",
   "metadata": {},
   "outputs": [
    {
     "name": "stdout",
     "output_type": "stream",
     "text": [
      "mse with polynomial ridge regression and normalization: 47.10123139891343\n",
      "accuracy: 82.03%\n"
     ]
    }
   ],
   "source": [
    "ridge_3 = Ridge(alpha=0.1)\n",
    "ridge_3.fit(xtrain_norm_poly, y_train)\n",
    "y_pred_ridge_3 = ridge_3.predict(xtest_norm_poly)\n",
    "mse_ridge_3 = mean_squared_error(y_test, y_pred_ridge_3)\n",
    "accuracy_ridge_3 = ridge_3.score(xtest_norm_poly, y_test)\n",
    "print(f\"mse with polynomial ridge regression and normalization: {mse_ridge_3}\\naccuracy: {round(accuracy_ridge_3*100, 2)}%\")"
   ]
  },
  {
   "cell_type": "markdown",
   "id": "a6e4ad1a-cb8d-4530-aec4-b21881aa0cb2",
   "metadata": {},
   "source": [
    "## Polynomial Ridge Regression with Standardization (Degree 3)\n"
   ]
  },
  {
   "cell_type": "code",
   "execution_count": 17,
   "id": "96124406-6438-4149-adf2-169dfcfce097",
   "metadata": {},
   "outputs": [
    {
     "name": "stdout",
     "output_type": "stream",
     "text": [
      "mse with polynomial ridge regression and standardization: 4101.23475257131\n",
      "accuracy: -1464.72%\n"
     ]
    }
   ],
   "source": [
    "ridge_4 = Ridge(alpha=0.1)\n",
    "ridge_4.fit(xtrain_std_poly, y_train)\n",
    "y_pred_ridge_4 = ridge_4.predict(xtest_std_poly)\n",
    "mse_ridge_4 = mean_squared_error(y_test, y_pred_ridge_4)\n",
    "accuracy_ridge_4 = ridge_4.score(xtest_std_poly, y_test)\n",
    "print(f\"mse with polynomial ridge regression and standardization: {mse_ridge_4}\\naccuracy: {round(accuracy_ridge_4*100, 2)}%\")"
   ]
  },
  {
   "cell_type": "markdown",
   "id": "8a5c928a-b1b1-49bb-8adb-27b5203f0761",
   "metadata": {},
   "source": [
    "<b>Plynomial Lasso Regression (Degree 3)</b> is the optimal model for this Dataset with an MSE of <b>44.41</b> and <b>83.06%</b> Accuracy"
   ]
  },
  {
   "cell_type": "code",
   "execution_count": 18,
   "id": "8232bea8-f2b8-498e-83e6-5063988bcd9f",
   "metadata": {},
   "outputs": [
    {
     "data": {
      "text/html": [
       "<div>\n",
       "<style scoped>\n",
       "    .dataframe tbody tr th:only-of-type {\n",
       "        vertical-align: middle;\n",
       "    }\n",
       "\n",
       "    .dataframe tbody tr th {\n",
       "        vertical-align: top;\n",
       "    }\n",
       "\n",
       "    .dataframe thead th {\n",
       "        text-align: right;\n",
       "    }\n",
       "</style>\n",
       "<table border=\"1\" class=\"dataframe\">\n",
       "  <thead>\n",
       "    <tr style=\"text-align: right;\">\n",
       "      <th></th>\n",
       "      <th>Strength</th>\n",
       "      <th>Predicted Strength</th>\n",
       "      <th>Error(%)</th>\n",
       "    </tr>\n",
       "  </thead>\n",
       "  <tbody>\n",
       "    <tr>\n",
       "      <th>339</th>\n",
       "      <td>21.91</td>\n",
       "      <td>23.341219</td>\n",
       "      <td>6.53</td>\n",
       "    </tr>\n",
       "    <tr>\n",
       "      <th>244</th>\n",
       "      <td>19.93</td>\n",
       "      <td>14.188167</td>\n",
       "      <td>28.81</td>\n",
       "    </tr>\n",
       "    <tr>\n",
       "      <th>882</th>\n",
       "      <td>36.44</td>\n",
       "      <td>24.669127</td>\n",
       "      <td>32.30</td>\n",
       "    </tr>\n",
       "    <tr>\n",
       "      <th>567</th>\n",
       "      <td>11.96</td>\n",
       "      <td>12.694569</td>\n",
       "      <td>6.14</td>\n",
       "    </tr>\n",
       "    <tr>\n",
       "      <th>923</th>\n",
       "      <td>39.84</td>\n",
       "      <td>32.798424</td>\n",
       "      <td>17.67</td>\n",
       "    </tr>\n",
       "    <tr>\n",
       "      <th>...</th>\n",
       "      <td>...</td>\n",
       "      <td>...</td>\n",
       "      <td>...</td>\n",
       "    </tr>\n",
       "    <tr>\n",
       "      <th>1018</th>\n",
       "      <td>37.27</td>\n",
       "      <td>38.577055</td>\n",
       "      <td>3.51</td>\n",
       "    </tr>\n",
       "    <tr>\n",
       "      <th>1015</th>\n",
       "      <td>52.43</td>\n",
       "      <td>46.090021</td>\n",
       "      <td>12.09</td>\n",
       "    </tr>\n",
       "    <tr>\n",
       "      <th>341</th>\n",
       "      <td>47.40</td>\n",
       "      <td>41.594500</td>\n",
       "      <td>12.25</td>\n",
       "    </tr>\n",
       "    <tr>\n",
       "      <th>750</th>\n",
       "      <td>44.09</td>\n",
       "      <td>38.712660</td>\n",
       "      <td>12.20</td>\n",
       "    </tr>\n",
       "    <tr>\n",
       "      <th>937</th>\n",
       "      <td>36.80</td>\n",
       "      <td>33.598956</td>\n",
       "      <td>8.70</td>\n",
       "    </tr>\n",
       "  </tbody>\n",
       "</table>\n",
       "<p>309 rows × 3 columns</p>\n",
       "</div>"
      ],
      "text/plain": [
       "      Strength  Predicted Strength  Error(%)\n",
       "339      21.91           23.341219      6.53\n",
       "244      19.93           14.188167     28.81\n",
       "882      36.44           24.669127     32.30\n",
       "567      11.96           12.694569      6.14\n",
       "923      39.84           32.798424     17.67\n",
       "...        ...                 ...       ...\n",
       "1018     37.27           38.577055      3.51\n",
       "1015     52.43           46.090021     12.09\n",
       "341      47.40           41.594500     12.25\n",
       "750      44.09           38.712660     12.20\n",
       "937      36.80           33.598956      8.70\n",
       "\n",
       "[309 rows x 3 columns]"
      ]
     },
     "execution_count": 18,
     "metadata": {},
     "output_type": "execute_result"
    }
   ],
   "source": [
    "df_result = pd.DataFrame({'Strength': y_test, 'Predicted Strength': y_pred_poly})\n",
    "df_result['Error(%)'] = round((abs(df_result['Strength']-df_result['Predicted Strength'])/df_result['Strength'])*100, 2)\n",
    "df_result"
   ]
  },
  {
   "cell_type": "code",
   "execution_count": null,
   "id": "28b3733d-f1ae-4493-92b6-ef277a97226d",
   "metadata": {},
   "outputs": [],
   "source": []
  }
 ],
 "metadata": {
  "kernelspec": {
   "display_name": "Python 3 (ipykernel)",
   "language": "python",
   "name": "python3"
  },
  "language_info": {
   "codemirror_mode": {
    "name": "ipython",
    "version": 3
   },
   "file_extension": ".py",
   "mimetype": "text/x-python",
   "name": "python",
   "nbconvert_exporter": "python",
   "pygments_lexer": "ipython3",
   "version": "3.11.7"
  }
 },
 "nbformat": 4,
 "nbformat_minor": 5
}
